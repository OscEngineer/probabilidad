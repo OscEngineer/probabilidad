{
 "cells": [
  {
   "cell_type": "markdown",
   "id": "f32def7b",
   "metadata": {},
   "source": [
    "#Funciones en Python"
   ]
  },
  {
   "cell_type": "code",
   "execution_count": 1,
   "id": "3a775b32",
   "metadata": {},
   "outputs": [],
   "source": [
    "#Funcion suma, si se quisiera declarar como metodo entonces debe estar dentro de una clase\n",
    "def suma(x,y):\n",
    "    return x+y"
   ]
  },
  {
   "cell_type": "code",
   "execution_count": 5,
   "id": "aa90730b",
   "metadata": {},
   "outputs": [],
   "source": [
    "#una clase se define con entre parentesis Object\n",
    "class Operaciones(object):\n",
    "    def suma(self, x,y): # aca esta declarada como metodo porque esta dentro de la clase\n",
    "        self.resultado = x+y\n",
    "        return self.resultado\n",
    "    "
   ]
  },
  {
   "cell_type": "code",
   "execution_count": 6,
   "id": "f6463a7f",
   "metadata": {},
   "outputs": [
    {
     "data": {
      "text/plain": [
       "5"
      ]
     },
     "execution_count": 6,
     "metadata": {},
     "output_type": "execute_result"
    }
   ],
   "source": [
    "suma(2,3)"
   ]
  },
  {
   "cell_type": "code",
   "execution_count": 10,
   "id": "97fcbb9b",
   "metadata": {},
   "outputs": [
    {
     "data": {
      "text/plain": [
       "5"
      ]
     },
     "execution_count": 10,
     "metadata": {},
     "output_type": "execute_result"
    }
   ],
   "source": [
    "#si quiero invocar al metodo q hace parte de la clase operaciones entonces\n",
    "# debo crear una instancia (un objeto de la clase)\n",
    "# es decir que debo crear un objeto de la clase y luego invocar el metodo\n",
    "operinstancia = Operaciones()\n",
    "operinstancia.suma(2,3)"
   ]
  },
  {
   "cell_type": "code",
   "execution_count": 14,
   "id": "3759c9b3",
   "metadata": {},
   "outputs": [],
   "source": [
    "def saludar():\n",
    "    name=str(input(\"introduce tu nombre\"))\n",
    "    if name:\n",
    "        print(\"hola \"+name)\n",
    "    else:\n",
    "        print(\"hola, me llamaron a saludar\")\n",
    "    return"
   ]
  },
  {
   "cell_type": "code",
   "execution_count": 15,
   "id": "aaaf5f07",
   "metadata": {},
   "outputs": [
    {
     "name": "stdout",
     "output_type": "stream",
     "text": [
      "introduce tu nombrepepe\n",
      "hola pepe\n"
     ]
    }
   ],
   "source": [
    "saludar()"
   ]
  },
  {
   "cell_type": "code",
   "execution_count": null,
   "id": "e65385e2",
   "metadata": {},
   "outputs": [],
   "source": []
  }
 ],
 "metadata": {
  "kernelspec": {
   "display_name": "Python 3 (ipykernel)",
   "language": "python",
   "name": "python3"
  },
  "language_info": {
   "codemirror_mode": {
    "name": "ipython",
    "version": 3
   },
   "file_extension": ".py",
   "mimetype": "text/x-python",
   "name": "python",
   "nbconvert_exporter": "python",
   "pygments_lexer": "ipython3",
   "version": "3.10.11"
  }
 },
 "nbformat": 4,
 "nbformat_minor": 5
}
