{
 "cells": [
  {
   "cell_type": "markdown",
   "id": "afd72704",
   "metadata": {},
   "source": [
    "#Funciones en Python"
   ]
  },
  {
   "cell_type": "code",
   "execution_count": 1,
   "id": "d167fd4c",
   "metadata": {},
   "outputs": [],
   "source": [
    "#Funcion suma, si se quisiera declarar como metodo entonces debe estar dentro de una clase\n",
    "def suma(x,y):\n",
    "    return x+y"
   ]
  },
  {
   "cell_type": "code",
   "execution_count": 5,
   "id": "0a74dab9",
   "metadata": {},
   "outputs": [],
   "source": [
    "#una clase se define con entre parentesis Object\n",
    "class Operaciones(object):\n",
    "    def suma(self, x,y): # aca esta declarada como metodo porque esta dentro de la clase\n",
    "        self.resultado = x+y\n",
    "        return self.resultado\n",
    "    "
   ]
  },
  {
   "cell_type": "code",
   "execution_count": 6,
   "id": "84dbe05e",
   "metadata": {},
   "outputs": [
    {
     "data": {
      "text/plain": [
       "5"
      ]
     },
     "execution_count": 6,
     "metadata": {},
     "output_type": "execute_result"
    }
   ],
   "source": [
    "suma(2,3)"
   ]
  },
  {
   "cell_type": "code",
   "execution_count": 10,
   "id": "fce6c5cd",
   "metadata": {},
   "outputs": [
    {
     "data": {
      "text/plain": [
       "5"
      ]
     },
     "execution_count": 10,
     "metadata": {},
     "output_type": "execute_result"
    }
   ],
   "source": [
    "#si quiero invocar al metodo q hace parte de la clase operaciones entonces\n",
    "# debo crear una instancia (un objeto de la clase)\n",
    "# es decir que debo crear un objeto de la clase y luego invocar el metodo\n",
    "operinstancia = Operaciones()\n",
    "operinstancia.suma(2,3)"
   ]
  },
  {
   "cell_type": "code",
   "execution_count": 14,
   "id": "7dad36f8",
   "metadata": {},
   "outputs": [],
   "source": [
    "def saludar():\n",
    "    name=str(input(\"introduce tu nombre\"))\n",
    "    if name:\n",
    "        print(\"hola \"+name)\n",
    "    else:\n",
    "        print(\"hola, me llamaron a saludar\")\n",
    "    return"
   ]
  },
  {
   "cell_type": "code",
   "execution_count": 15,
   "id": "c9ccb893",
   "metadata": {},
   "outputs": [
    {
     "name": "stdout",
     "output_type": "stream",
     "text": [
      "introduce tu nombrepepe\n",
      "hola pepe\n"
     ]
    }
   ],
   "source": [
    "saludar()"
   ]
  },
  {
   "cell_type": "code",
   "execution_count": 17,
   "id": "61e09c2c",
   "metadata": {},
   "outputs": [],
   "source": [
    "def buscarPares():\n",
    "    for x in range(10):\n",
    "        if x%2 == 0:\n",
    "            return\n",
    "    Print(\"Fin de la ejecucion\")    "
   ]
  },
  {
   "cell_type": "code",
   "execution_count": 18,
   "id": "801480a3",
   "metadata": {},
   "outputs": [],
   "source": [
    "def sumaresta(x,y):\n",
    "    suma=x+y\n",
    "    resta=x-y\n",
    "    return (suma,resta)"
   ]
  },
  {
   "cell_type": "code",
   "execution_count": 19,
   "id": "13918bb4",
   "metadata": {},
   "outputs": [
    {
     "data": {
      "text/plain": [
       "(5, -1)"
      ]
     },
     "execution_count": 19,
     "metadata": {},
     "output_type": "execute_result"
    }
   ],
   "source": [
    "sumaresta(2,3)"
   ]
  },
  {
   "cell_type": "code",
   "execution_count": 20,
   "id": "8e369eb5",
   "metadata": {},
   "outputs": [
    {
     "data": {
      "text/plain": [
       "(5, -1)"
      ]
     },
     "execution_count": 20,
     "metadata": {},
     "output_type": "execute_result"
    }
   ],
   "source": [
    "sumaresta(x=2,y=3)"
   ]
  },
  {
   "cell_type": "code",
   "execution_count": 25,
   "id": "d7e9206b",
   "metadata": {},
   "outputs": [],
   "source": [
    "#cuando no sabemos el numero exacto de argumentos ponemos asterisco *\n",
    "# esta funcion acepta argumentos de longitud variable"
   ]
  },
  {
   "cell_type": "code",
   "execution_count": 22,
   "id": "75d3151c",
   "metadata": {},
   "outputs": [],
   "source": [
    "def suma(*args):\n",
    "    return sum(args)"
   ]
  },
  {
   "cell_type": "code",
   "execution_count": 23,
   "id": "414854ee",
   "metadata": {},
   "outputs": [
    {
     "data": {
      "text/plain": [
       "3"
      ]
     },
     "execution_count": 23,
     "metadata": {},
     "output_type": "execute_result"
    }
   ],
   "source": [
    "suma(1,2)"
   ]
  },
  {
   "cell_type": "code",
   "execution_count": 24,
   "id": "59a70162",
   "metadata": {},
   "outputs": [
    {
     "data": {
      "text/plain": [
       "10"
      ]
     },
     "execution_count": 24,
     "metadata": {},
     "output_type": "execute_result"
    }
   ],
   "source": [
    "suma(1,2,3,4)"
   ]
  },
  {
   "cell_type": "code",
   "execution_count": 26,
   "id": "7f94c858",
   "metadata": {},
   "outputs": [
    {
     "data": {
      "text/plain": [
       "91"
      ]
     },
     "execution_count": 26,
     "metadata": {},
     "output_type": "execute_result"
    }
   ],
   "source": [
    "suma(1,2,3,4,5,6,7,8,9,10,11,12,13)"
   ]
  },
  {
   "cell_type": "code",
   "execution_count": 28,
   "id": "bd33bd40",
   "metadata": {},
   "outputs": [],
   "source": [
    "def sumacuadrados(*datos):\n",
    "    total=0\n",
    "    for d in datos:\n",
    "        total=total+d**2\n",
    "    return total"
   ]
  },
  {
   "cell_type": "code",
   "execution_count": 29,
   "id": "735b80b7",
   "metadata": {},
   "outputs": [
    {
     "data": {
      "text/plain": [
       "38"
      ]
     },
     "execution_count": 29,
     "metadata": {},
     "output_type": "execute_result"
    }
   ],
   "source": [
    "sumacuadrados(2,3,5)"
   ]
  },
  {
   "cell_type": "markdown",
   "id": "d3a75a89",
   "metadata": {},
   "source": [
    "# funciones anonimas\n",
    "no se debe usar la palabra reservada def, se usa lambda"
   ]
  },
  {
   "cell_type": "code",
   "execution_count": 30,
   "id": "e32973b0",
   "metadata": {},
   "outputs": [],
   "source": [
    "doble = lambda x: x*2"
   ]
  },
  {
   "cell_type": "code",
   "execution_count": 31,
   "id": "27ba20d1",
   "metadata": {},
   "outputs": [
    {
     "data": {
      "text/plain": [
       "8"
      ]
     },
     "execution_count": 31,
     "metadata": {},
     "output_type": "execute_result"
    }
   ],
   "source": [
    "doble(4)"
   ]
  },
  {
   "cell_type": "code",
   "execution_count": 32,
   "id": "c8740cdc",
   "metadata": {},
   "outputs": [],
   "source": [
    "cuadrado = lambda x: x**2"
   ]
  },
  {
   "cell_type": "code",
   "execution_count": 33,
   "id": "2ef722fc",
   "metadata": {},
   "outputs": [
    {
     "data": {
      "text/plain": [
       "25"
      ]
     },
     "execution_count": 33,
     "metadata": {},
     "output_type": "execute_result"
    }
   ],
   "source": [
    "cuadrado(5)"
   ]
  },
  {
   "cell_type": "code",
   "execution_count": 34,
   "id": "b845943f",
   "metadata": {},
   "outputs": [],
   "source": [
    "suma = lambda x,y :x+y"
   ]
  },
  {
   "cell_type": "code",
   "execution_count": 35,
   "id": "1e56e837",
   "metadata": {},
   "outputs": [
    {
     "data": {
      "text/plain": [
       "5"
      ]
     },
     "execution_count": 35,
     "metadata": {},
     "output_type": "execute_result"
    }
   ],
   "source": [
    "suma(2,3)"
   ]
  },
  {
   "cell_type": "code",
   "execution_count": 36,
   "id": "710329ee",
   "metadata": {},
   "outputs": [],
   "source": [
    "#importar del paquete functools la libreria reduce"
   ]
  },
  {
   "cell_type": "code",
   "execution_count": 37,
   "id": "37fd65e1",
   "metadata": {},
   "outputs": [],
   "source": [
    "from functools import reduce\n"
   ]
  },
  {
   "cell_type": "code",
   "execution_count": 40,
   "id": "8f27e38d",
   "metadata": {},
   "outputs": [],
   "source": [
    "data=[1,2,3,4,5,6,7,8,9,10,11]\n",
    "#vamos a filtrar los numeros que al multiplicarlos por 2 son mas grandes que 8"
   ]
  },
  {
   "cell_type": "code",
   "execution_count": 39,
   "id": "88c5acb4",
   "metadata": {},
   "outputs": [],
   "source": [
    "filtered_data = list(filter(lambda x: (x*2>8),data))"
   ]
  },
  {
   "cell_type": "code",
   "execution_count": 41,
   "id": "8cd92819",
   "metadata": {},
   "outputs": [
    {
     "data": {
      "text/plain": [
       "[5, 6, 7, 8, 9, 10, 11]"
      ]
     },
     "execution_count": 41,
     "metadata": {},
     "output_type": "execute_result"
    }
   ],
   "source": [
    "filtered_data"
   ]
  },
  {
   "cell_type": "code",
   "execution_count": null,
   "id": "a4b40f4c",
   "metadata": {},
   "outputs": [],
   "source": []
  }
 ],
 "metadata": {
  "kernelspec": {
   "display_name": "Python 3 (ipykernel)",
   "language": "python",
   "name": "python3"
  },
  "language_info": {
   "codemirror_mode": {
    "name": "ipython",
    "version": 3
   },
   "file_extension": ".py",
   "mimetype": "text/x-python",
   "name": "python",
   "nbconvert_exporter": "python",
   "pygments_lexer": "ipython3",
   "version": "3.10.11"
  }
 },
 "nbformat": 4,
 "nbformat_minor": 5
}
