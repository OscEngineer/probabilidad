{
 "cells": [
  {
   "cell_type": "markdown",
   "id": "5aa64b87",
   "metadata": {},
   "source": [
    "# Listas\n",
    "son contenedores que permiten almacenar una coleccion de objetos en un orden.\n"
   ]
  },
  {
   "cell_type": "code",
   "execution_count": null,
   "id": "6a9d9b4f",
   "metadata": {},
   "outputs": [],
   "source": [
    "L1=[]"
   ]
  },
  {
   "cell_type": "code",
   "execution_count": 1,
   "id": "d5a66a5d",
   "metadata": {},
   "outputs": [],
   "source": [
    "L2=['a','e','i','o','u'] # lista con valores iniciales"
   ]
  },
  {
   "cell_type": "code",
   "execution_count": 2,
   "id": "343b5567",
   "metadata": {},
   "outputs": [],
   "source": [
    "L3=[2,3,4,5,11]"
   ]
  },
  {
   "cell_type": "code",
   "execution_count": 12,
   "id": "dbc1c770",
   "metadata": {},
   "outputs": [],
   "source": [
    "L4=['a',5,True,\"os en\"] # lista heterogenea con varios tipos de datos"
   ]
  },
  {
   "cell_type": "code",
   "execution_count": 8,
   "id": "30956ed6",
   "metadata": {},
   "outputs": [
    {
     "data": {
      "text/plain": [
       "['a', 5, True, 'os en']"
      ]
     },
     "execution_count": 8,
     "metadata": {},
     "output_type": "execute_result"
    }
   ],
   "source": [
    "L4"
   ]
  },
  {
   "cell_type": "code",
   "execution_count": 3,
   "id": "1750bce8",
   "metadata": {},
   "outputs": [],
   "source": [
    "L5=[0]*10"
   ]
  },
  {
   "cell_type": "code",
   "execution_count": 4,
   "id": "95ddb67c",
   "metadata": {},
   "outputs": [
    {
     "data": {
      "text/plain": [
       "[0, 0, 0, 0, 0, 0, 0, 0, 0, 0]"
      ]
     },
     "execution_count": 4,
     "metadata": {},
     "output_type": "execute_result"
    }
   ],
   "source": [
    "L5"
   ]
  },
  {
   "cell_type": "code",
   "execution_count": 5,
   "id": "abd3a547",
   "metadata": {},
   "outputs": [
    {
     "ename": "NameError",
     "evalue": "name 'L4' is not defined",
     "output_type": "error",
     "traceback": [
      "\u001b[1;31m---------------------------------------------------------------------------\u001b[0m",
      "\u001b[1;31mNameError\u001b[0m                                 Traceback (most recent call last)",
      "Cell \u001b[1;32mIn[5], line 1\u001b[0m\n\u001b[1;32m----> 1\u001b[0m \u001b[43mL4\u001b[49m[\u001b[38;5;241m0\u001b[39m]\n",
      "\u001b[1;31mNameError\u001b[0m: name 'L4' is not defined"
     ]
    }
   ],
   "source": [
    "L4[0]"
   ]
  },
  {
   "cell_type": "code",
   "execution_count": 6,
   "id": "abe21868",
   "metadata": {},
   "outputs": [],
   "source": [
    "L5[4]=3.1415 #modificacion de valores"
   ]
  },
  {
   "cell_type": "code",
   "execution_count": 7,
   "id": "bdc1d9a0",
   "metadata": {},
   "outputs": [
    {
     "data": {
      "text/plain": [
       "[0, 0, 0, 0, 3.1415, 0, 0, 0, 0, 0]"
      ]
     },
     "execution_count": 7,
     "metadata": {},
     "output_type": "execute_result"
    }
   ],
   "source": [
    "L5"
   ]
  },
  {
   "cell_type": "code",
   "execution_count": 8,
   "id": "c7232e29",
   "metadata": {},
   "outputs": [
    {
     "ename": "NameError",
     "evalue": "name 'L4' is not defined",
     "output_type": "error",
     "traceback": [
      "\u001b[1;31m---------------------------------------------------------------------------\u001b[0m",
      "\u001b[1;31mNameError\u001b[0m                                 Traceback (most recent call last)",
      "Cell \u001b[1;32mIn[8], line 1\u001b[0m\n\u001b[1;32m----> 1\u001b[0m \u001b[43mL4\u001b[49m[\u001b[38;5;241m0\u001b[39m:\u001b[38;5;241m2\u001b[39m]\n",
      "\u001b[1;31mNameError\u001b[0m: name 'L4' is not defined"
     ]
    }
   ],
   "source": [
    "L4[0:2] # accesos de posiciones multiples (incluye la primera, no incluye la ultima)"
   ]
  },
  {
   "cell_type": "code",
   "execution_count": 9,
   "id": "6375f95f",
   "metadata": {},
   "outputs": [],
   "source": [
    "L5[1:4] = [1,2,3]"
   ]
  },
  {
   "cell_type": "code",
   "execution_count": 10,
   "id": "289622eb",
   "metadata": {},
   "outputs": [
    {
     "data": {
      "text/plain": [
       "[0, 1, 2, 3, 3.1415, 0, 0, 0, 0, 0]"
      ]
     },
     "execution_count": 10,
     "metadata": {},
     "output_type": "execute_result"
    }
   ],
   "source": [
    "L5"
   ]
  },
  {
   "cell_type": "code",
   "execution_count": 11,
   "id": "5cbfec9d",
   "metadata": {},
   "outputs": [],
   "source": [
    "L5.append(8) # append añadir al final un objeto"
   ]
  },
  {
   "cell_type": "code",
   "execution_count": 12,
   "id": "bdebadde",
   "metadata": {},
   "outputs": [
    {
     "data": {
      "text/plain": [
       "[0, 1, 2, 3, 3.1415, 0, 0, 0, 0, 0, 8]"
      ]
     },
     "execution_count": 12,
     "metadata": {},
     "output_type": "execute_result"
    }
   ],
   "source": [
    "L5"
   ]
  },
  {
   "cell_type": "code",
   "execution_count": 13,
   "id": "32148b7f",
   "metadata": {},
   "outputs": [
    {
     "ename": "ValueError",
     "evalue": "list.remove(x): x not in list",
     "output_type": "error",
     "traceback": [
      "\u001b[1;31m---------------------------------------------------------------------------\u001b[0m",
      "\u001b[1;31mValueError\u001b[0m                                Traceback (most recent call last)",
      "Cell \u001b[1;32mIn[13], line 1\u001b[0m\n\u001b[1;32m----> 1\u001b[0m \u001b[43mL5\u001b[49m\u001b[38;5;241;43m.\u001b[39;49m\u001b[43mremove\u001b[49m\u001b[43m(\u001b[49m\u001b[38;5;124;43m'\u001b[39;49m\u001b[38;5;124;43mcasa\u001b[39;49m\u001b[38;5;124;43m'\u001b[39;49m\u001b[43m)\u001b[49m\n",
      "\u001b[1;31mValueError\u001b[0m: list.remove(x): x not in list"
     ]
    }
   ],
   "source": [
    "L5.remove('casa') # remove elimina la primera ocurrencia del objeto"
   ]
  },
  {
   "cell_type": "code",
   "execution_count": 14,
   "id": "40cf029e",
   "metadata": {},
   "outputs": [
    {
     "data": {
      "text/plain": [
       "[0, 1, 2, 3, 3.1415, 0, 0, 0, 0, 0, 8]"
      ]
     },
     "execution_count": 14,
     "metadata": {},
     "output_type": "execute_result"
    }
   ],
   "source": [
    "L5"
   ]
  },
  {
   "cell_type": "code",
   "execution_count": 15,
   "id": "05a9b9f6",
   "metadata": {},
   "outputs": [
    {
     "data": {
      "text/plain": [
       "11"
      ]
     },
     "execution_count": 15,
     "metadata": {},
     "output_type": "execute_result"
    }
   ],
   "source": [
    "len(L5) # longitud"
   ]
  },
  {
   "cell_type": "code",
   "execution_count": 16,
   "id": "5a928090",
   "metadata": {},
   "outputs": [],
   "source": [
    "L=[1,2,3,4,5,6]\n"
   ]
  },
  {
   "cell_type": "code",
   "execution_count": 17,
   "id": "1593c317",
   "metadata": {},
   "outputs": [
    {
     "data": {
      "text/plain": [
       "[2, 4, 6]"
      ]
     },
     "execution_count": 17,
     "metadata": {},
     "output_type": "execute_result"
    }
   ],
   "source": [
    "L[1::2]"
   ]
  },
  {
   "cell_type": "code",
   "execution_count": 18,
   "id": "24b142b5",
   "metadata": {},
   "outputs": [
    {
     "data": {
      "text/plain": [
       "False"
      ]
     },
     "execution_count": 18,
     "metadata": {},
     "output_type": "execute_result"
    }
   ],
   "source": [
    "8 in L # ver si este numero esta contenido en la lista"
   ]
  },
  {
   "cell_type": "markdown",
   "id": "de7c71eb",
   "metadata": {},
   "source": [
    "# Bucles\n",
    "for para iterar un coleccion"
   ]
  },
  {
   "cell_type": "code",
   "execution_count": 19,
   "id": "aef58dc4",
   "metadata": {},
   "outputs": [
    {
     "name": "stdout",
     "output_type": "stream",
     "text": [
      "1\n",
      "2\n",
      "3\n",
      "4\n",
      "5\n",
      "6\n"
     ]
    }
   ],
   "source": [
    "for numero in L:\n",
    "    print(numero)"
   ]
  },
  {
   "cell_type": "code",
   "execution_count": 20,
   "id": "e607a0f3",
   "metadata": {},
   "outputs": [
    {
     "name": "stdout",
     "output_type": "stream",
     "text": [
      "0\n",
      "1\n",
      "2\n",
      "3\n",
      "4\n",
      "5\n",
      "6\n",
      "7\n",
      "8\n",
      "9\n"
     ]
    }
   ],
   "source": [
    "#hacer un for en un rango  - range(10) es igual que range(0,10)\n",
    "for x in range(0,10):\n",
    "    print(x)"
   ]
  },
  {
   "cell_type": "code",
   "execution_count": 21,
   "id": "d747a857",
   "metadata": {},
   "outputs": [
    {
     "name": "stdout",
     "output_type": "stream",
     "text": [
      "O\n",
      "s\n",
      "c\n",
      "a\n",
      "r\n",
      " \n",
      "J\n",
      "u\n",
      "l\n",
      "i\n",
      "a\n",
      "n\n"
     ]
    }
   ],
   "source": [
    "for c in \"Oscar Julian\":\n",
    "    print(c)"
   ]
  },
  {
   "cell_type": "code",
   "execution_count": 22,
   "id": "1e2fdd94",
   "metadata": {},
   "outputs": [
    {
     "name": "stdout",
     "output_type": "stream",
     "text": [
      "6.34\n"
     ]
    }
   ],
   "source": [
    "# funcion que calcula la media aritmetica\n",
    "notas =[3.5,6.7,8,9,4.5]\n",
    "suma=0\n",
    "for nota in notas:\n",
    "    suma=suma+nota\n",
    "print(suma/len(notas))    "
   ]
  },
  {
   "cell_type": "markdown",
   "id": "734cd988",
   "metadata": {},
   "source": [
    "# Bucle While\n",
    "se repite hasta que la condicion es falsa"
   ]
  },
  {
   "cell_type": "code",
   "execution_count": 23,
   "id": "a93a5444",
   "metadata": {},
   "outputs": [
    {
     "name": "stdout",
     "output_type": "stream",
     "text": [
      "0\n",
      "1\n",
      "2\n",
      "3\n",
      "4\n",
      "5\n",
      "6\n",
      "7\n",
      "8\n",
      "9\n"
     ]
    }
   ],
   "source": [
    "count = 0\n",
    "while count <10:\n",
    "    print(count)\n",
    "    count+=1"
   ]
  },
  {
   "cell_type": "code",
   "execution_count": 24,
   "id": "c4f1a294",
   "metadata": {},
   "outputs": [
    {
     "name": "stdout",
     "output_type": "stream",
     "text": [
      "0 2\n",
      "1 3\n",
      "2 5\n",
      "3 7\n",
      "4 11\n",
      "5 13\n",
      "6 17\n",
      "7 19\n",
      "8 23\n",
      "9 29\n"
     ]
    }
   ],
   "source": [
    "# idx es indice, y debemos convertir primos en un iterable con enumerate\n",
    "primos = [2,3,5,7,11,13,17,19,23,29]\n",
    "for idx,p in enumerate(primos):\n",
    "    print(idx,p)\n"
   ]
  },
  {
   "cell_type": "code",
   "execution_count": 25,
   "id": "f620e23e",
   "metadata": {},
   "outputs": [
    {
     "name": "stdout",
     "output_type": "stream",
     "text": [
      "0 2\n",
      "1 3\n",
      "2 5\n",
      "3 7\n",
      "4 11\n",
      "5 13\n",
      "6 17\n",
      "7 19\n",
      "8 23\n",
      "9 29\n"
     ]
    }
   ],
   "source": [
    "# idx solo me da el indice\n",
    "for idx in range(len(primos)):\n",
    "    print(idx,primos[idx])"
   ]
  },
  {
   "cell_type": "code",
   "execution_count": 26,
   "id": "87b4b292",
   "metadata": {},
   "outputs": [
    {
     "name": "stdout",
     "output_type": "stream",
     "text": [
      "[2, 3, 4, 5, 6, 7, 8, 9, 10, 11, 12, 13, 14, 15, 16, 17, 18, 19, 20, 21, 22, 23, 24, 25, 26, 27, 28, 29, 30, 31, 32, 33, 34, 35, 36, 37, 38, 39, 40, 41, 42, 43, 44, 45, 46, 47, 48, 49, 50, 51, 52, 53, 54, 55, 56, 57, 58, 59, 60, 61, 62, 63, 64, 65, 66, 67, 68, 69, 70, 71, 72, 73, 74, 75, 76, 77, 78, 79, 80, 81, 82, 83, 84, 85, 86, 87, 88, 89, 90, 91, 92, 93, 94, 95, 96, 97, 98, 99, 100]\n"
     ]
    }
   ],
   "source": [
    "#Almacenar numeros del 2 al 100\n",
    "numeros=[]\n",
    "\n",
    "for i in range(2,101):\n",
    "    numeros.append(i)\n",
    "print(numeros)"
   ]
  },
  {
   "cell_type": "code",
   "execution_count": 27,
   "id": "d57b2880",
   "metadata": {},
   "outputs": [
    {
     "ename": "SyntaxError",
     "evalue": "invalid syntax (3791560838.py, line 2)",
     "output_type": "error",
     "traceback": [
      "\u001b[1;36m  Cell \u001b[1;32mIn[27], line 2\u001b[1;36m\u001b[0m\n\u001b[1;33m    calcular los numero primos desde 1 hasta 100\u001b[0m\n\u001b[1;37m             ^\u001b[0m\n\u001b[1;31mSyntaxError\u001b[0m\u001b[1;31m:\u001b[0m invalid syntax\n"
     ]
    }
   ],
   "source": [
    "# Criba de Eratóstenes\n",
    "calcular los numero primos desde 1 hasta 100"
   ]
  },
  {
   "cell_type": "markdown",
   "id": "b29eaf8a",
   "metadata": {},
   "source": [
    "# Tupla\n",
    "es una coleccion de objetos que no pueden modificarse, tamaño y contenido fijo. en programacion avanzada se usa para ahorrar memoria, al no tener que usar memoria swap"
   ]
  },
  {
   "cell_type": "code",
   "execution_count": 28,
   "id": "10a40906",
   "metadata": {},
   "outputs": [],
   "source": [
    "pl=(1)"
   ]
  },
  {
   "cell_type": "code",
   "execution_count": 29,
   "id": "44ef5dc3",
   "metadata": {},
   "outputs": [
    {
     "data": {
      "text/plain": [
       "1"
      ]
     },
     "execution_count": 29,
     "metadata": {},
     "output_type": "execute_result"
    }
   ],
   "source": [
    "pl"
   ]
  },
  {
   "cell_type": "code",
   "execution_count": 30,
   "id": "1e168e38",
   "metadata": {},
   "outputs": [],
   "source": [
    "p2=(1,2,3,4)"
   ]
  },
  {
   "cell_type": "code",
   "execution_count": 31,
   "id": "f2d9958c",
   "metadata": {},
   "outputs": [
    {
     "data": {
      "text/plain": [
       "(1, 2, 3, 4)"
      ]
     },
     "execution_count": 31,
     "metadata": {},
     "output_type": "execute_result"
    }
   ],
   "source": [
    "p2"
   ]
  },
  {
   "cell_type": "code",
   "execution_count": 32,
   "id": "1ef21fe7",
   "metadata": {},
   "outputs": [],
   "source": [
    "p3=(1,2,'c',3.1415)"
   ]
  },
  {
   "cell_type": "code",
   "execution_count": 33,
   "id": "c28bf9fe",
   "metadata": {},
   "outputs": [
    {
     "data": {
      "text/plain": [
       "(1, 2, 'c', 3.1415)"
      ]
     },
     "execution_count": 33,
     "metadata": {},
     "output_type": "execute_result"
    }
   ],
   "source": [
    "p3"
   ]
  },
  {
   "cell_type": "code",
   "execution_count": 34,
   "id": "c35139b5",
   "metadata": {},
   "outputs": [
    {
     "data": {
      "text/plain": [
       "1"
      ]
     },
     "execution_count": 34,
     "metadata": {},
     "output_type": "execute_result"
    }
   ],
   "source": [
    "p3[0]"
   ]
  },
  {
   "cell_type": "code",
   "execution_count": 35,
   "id": "31003d2a",
   "metadata": {},
   "outputs": [
    {
     "data": {
      "text/plain": [
       "(1, 2)"
      ]
     },
     "execution_count": 35,
     "metadata": {},
     "output_type": "execute_result"
    }
   ],
   "source": [
    "#aaceder a las posiciones 0 y 2\n",
    "p3[0:2]"
   ]
  },
  {
   "cell_type": "code",
   "execution_count": 36,
   "id": "97e731e4",
   "metadata": {},
   "outputs": [],
   "source": [
    "# convertimos un vector en tupla\n",
    "p5=tuple(L5)"
   ]
  },
  {
   "cell_type": "code",
   "execution_count": 37,
   "id": "c005732f",
   "metadata": {},
   "outputs": [
    {
     "data": {
      "text/plain": [
       "(0, 1, 2, 3, 3.1415, 0, 0, 0, 0, 0, 8)"
      ]
     },
     "execution_count": 37,
     "metadata": {},
     "output_type": "execute_result"
    }
   ],
   "source": [
    "p5"
   ]
  },
  {
   "cell_type": "markdown",
   "id": "c46ecc58",
   "metadata": {},
   "source": [
    "# Ejercicio\n",
    "leer del teclado numeros separados por comas y luego usar funcion split para pasarlo a lista convertir en tuplas"
   ]
  },
  {
   "cell_type": "code",
   "execution_count": 39,
   "id": "5f3e575f",
   "metadata": {},
   "outputs": [
    {
     "name": "stdout",
     "output_type": "stream",
     "text": [
      "Esxribe numeros separados por comas.1,2,9,65,3,2,24355,2,4,7\n",
      "['1', '2', '9', '65', '3', '2', '24355', '2', '4', '7']\n",
      "('1', '2', '9', '65', '3', '2', '24355', '2', '4', '7')\n"
     ]
    }
   ],
   "source": [
    "numeros = input(\"Esxribe numeros separados por comas.\")\n",
    "numerosL= numeros.split(\",\")\n",
    "print(numerosL)\n",
    "numerosT=tuple(numerosL)\n",
    "print(numerosT)\n",
    "#ojo que quedan convertidos en caracter, debemos pasarlos a numeros"
   ]
  },
  {
   "cell_type": "code",
   "execution_count": 41,
   "id": "1e46c2b4",
   "metadata": {},
   "outputs": [
    {
     "name": "stdout",
     "output_type": "stream",
     "text": [
      "1\n",
      "2\n",
      "9\n",
      "65\n",
      "3\n",
      "2\n",
      "24355\n",
      "2\n",
      "4\n",
      "7\n"
     ]
    }
   ],
   "source": [
    "for n in numerosT:\n",
    "    print(int(n))"
   ]
  },
  {
   "cell_type": "code",
   "execution_count": 43,
   "id": "96016483",
   "metadata": {},
   "outputs": [
    {
     "name": "stdout",
     "output_type": "stream",
     "text": [
      "2445.0\n"
     ]
    }
   ],
   "source": [
    "#ahora imprimimos la media de los numeros\n",
    "suma = 0\n",
    "for n in numerosT:\n",
    "    suma += int(n)\n",
    "print(suma/len(numerosT))    "
   ]
  },
  {
   "cell_type": "code",
   "execution_count": 46,
   "id": "7fab3124",
   "metadata": {},
   "outputs": [
    {
     "name": "stdout",
     "output_type": "stream",
     "text": [
      "Hola Juan\n"
     ]
    }
   ],
   "source": [
    "nombre = \"Juan\"\n",
    "print(\"Hola %s\"%nombre)"
   ]
  },
  {
   "cell_type": "code",
   "execution_count": 48,
   "id": "1edd6838",
   "metadata": {},
   "outputs": [
    {
     "name": "stdout",
     "output_type": "stream",
     "text": [
      "introduce aqui tu nombrepedro\n",
      "Hola pedro\n"
     ]
    }
   ],
   "source": [
    "nombre= input(\"introduce aqui tu nombre\")\n",
    "print(\"Hola %s\"%nombre)"
   ]
  },
  {
   "cell_type": "code",
   "execution_count": 51,
   "id": "2bdd4996",
   "metadata": {},
   "outputs": [
    {
     "name": "stdout",
     "output_type": "stream",
     "text": [
      "estos son los numeros primos: [2, 3, 5, 7, 11, 13, 17, 19, 23, 29]\n"
     ]
    }
   ],
   "source": [
    "print(\"estos son los numeros primos: %s\" %primos)\n",
    "numerodecimal=3.1415"
   ]
  },
  {
   "cell_type": "code",
   "execution_count": 54,
   "id": "feb17f53",
   "metadata": {},
   "outputs": [
    {
     "name": "stdout",
     "output_type": "stream",
     "text": [
      "esto es un numero decimal: 3.14\n"
     ]
    }
   ],
   "source": [
    "print(\"esto es un numero decimal: %.2f\" %numerodecimal )"
   ]
  },
  {
   "cell_type": "markdown",
   "id": "91e18929",
   "metadata": {},
   "source": [
    "# Diccionario\n",
    "o tambien llamados arrys asociativos\n",
    "es un acoleccion no ordenada de pares de valores: claves <-> valores. no se indexa por posicion,, si no utilizando las claves "
   ]
  },
  {
   "cell_type": "code",
   "execution_count": 55,
   "id": "5da74dd8",
   "metadata": {},
   "outputs": [],
   "source": [
    "#una forma\n",
    "# edad={\"Oscar\":28,\"Mafe\":26,\"Juanita\":17}\n",
    "#La mejor forma para facil lectura\n",
    "edad={\"Oscar\":28,\n",
    "      \"Mafe\":26,\n",
    "      \"Juanita\":17\n",
    "     }"
   ]
  },
  {
   "cell_type": "code",
   "execution_count": 56,
   "id": "3ad46a95",
   "metadata": {},
   "outputs": [
    {
     "ename": "KeyError",
     "evalue": "0",
     "output_type": "error",
     "traceback": [
      "\u001b[1;31m---------------------------------------------------------------------------\u001b[0m",
      "\u001b[1;31mKeyError\u001b[0m                                  Traceback (most recent call last)",
      "Cell \u001b[1;32mIn[56], line 2\u001b[0m\n\u001b[0;32m      1\u001b[0m \u001b[38;5;66;03m# en los diccionarios no existe el concepto de posicion entonces lo siugiente no funciona\u001b[39;00m\n\u001b[1;32m----> 2\u001b[0m \u001b[43medad\u001b[49m\u001b[43m[\u001b[49m\u001b[38;5;241;43m0\u001b[39;49m\u001b[43m]\u001b[49m\n",
      "\u001b[1;31mKeyError\u001b[0m: 0"
     ]
    }
   ],
   "source": [
    "# en los diccionarios no existe el concepto de posicion entonces lo siugiente no funciona\n",
    "edad[0]"
   ]
  },
  {
   "cell_type": "code",
   "execution_count": 57,
   "id": "fe6b176a",
   "metadata": {},
   "outputs": [
    {
     "data": {
      "text/plain": [
       "28"
      ]
     },
     "execution_count": 57,
     "metadata": {},
     "output_type": "execute_result"
    }
   ],
   "source": [
    "#entonces la manera correcta de consultar es conociendo un dato\n",
    "edad[\"Oscar\"]\n"
   ]
  },
  {
   "cell_type": "code",
   "execution_count": 58,
   "id": "9c5be58c",
   "metadata": {},
   "outputs": [],
   "source": [
    "#vamos a cambiar el valor\n",
    "edad[\"Oscar\"] = 30"
   ]
  },
  {
   "cell_type": "code",
   "execution_count": 59,
   "id": "e65a7b81",
   "metadata": {},
   "outputs": [
    {
     "data": {
      "text/plain": [
       "{'Oscar': 30, 'Mafe': 26, 'Juanita': 17}"
      ]
     },
     "execution_count": 59,
     "metadata": {},
     "output_type": "execute_result"
    }
   ],
   "source": [
    "edad"
   ]
  },
  {
   "cell_type": "code",
   "execution_count": 60,
   "id": "99db30ee",
   "metadata": {},
   "outputs": [
    {
     "data": {
      "text/plain": [
       "dict_keys(['Oscar', 'Mafe', 'Juanita'])"
      ]
     },
     "execution_count": 60,
     "metadata": {},
     "output_type": "execute_result"
    }
   ],
   "source": [
    "edad.keys()"
   ]
  },
  {
   "cell_type": "code",
   "execution_count": 61,
   "id": "f746ff5e",
   "metadata": {},
   "outputs": [
    {
     "data": {
      "text/plain": [
       "dict_values([30, 26, 17])"
      ]
     },
     "execution_count": 61,
     "metadata": {},
     "output_type": "execute_result"
    }
   ],
   "source": [
    "edad.values()"
   ]
  },
  {
   "cell_type": "code",
   "execution_count": 62,
   "id": "4be9b9cd",
   "metadata": {},
   "outputs": [
    {
     "data": {
      "text/plain": [
       "3"
      ]
     },
     "execution_count": 62,
     "metadata": {},
     "output_type": "execute_result"
    }
   ],
   "source": [
    "len(edad)"
   ]
  },
  {
   "cell_type": "code",
   "execution_count": 63,
   "id": "c41daa77",
   "metadata": {},
   "outputs": [
    {
     "data": {
      "text/plain": [
       "False"
      ]
     },
     "execution_count": 63,
     "metadata": {},
     "output_type": "execute_result"
    }
   ],
   "source": [
    "\"pepe\" in edad"
   ]
  },
  {
   "cell_type": "code",
   "execution_count": 64,
   "id": "6d5fe633",
   "metadata": {},
   "outputs": [
    {
     "data": {
      "text/plain": [
       "True"
      ]
     },
     "execution_count": 64,
     "metadata": {},
     "output_type": "execute_result"
    }
   ],
   "source": [
    "\"Mafe\" in edad"
   ]
  },
  {
   "cell_type": "code",
   "execution_count": 65,
   "id": "99b537a0",
   "metadata": {},
   "outputs": [
    {
     "data": {
      "text/plain": [
       "True"
      ]
     },
     "execution_count": 65,
     "metadata": {},
     "output_type": "execute_result"
    }
   ],
   "source": [
    "\"Mario\" not in edad"
   ]
  },
  {
   "cell_type": "code",
   "execution_count": 66,
   "id": "78a8437f",
   "metadata": {},
   "outputs": [],
   "source": [
    "# borrar un elemento\n",
    "del edad[\"Juanita\"]"
   ]
  },
  {
   "cell_type": "code",
   "execution_count": 67,
   "id": "f73f3047",
   "metadata": {},
   "outputs": [
    {
     "data": {
      "text/plain": [
       "{'Oscar': 30, 'Mafe': 26}"
      ]
     },
     "execution_count": 67,
     "metadata": {},
     "output_type": "execute_result"
    }
   ],
   "source": [
    "edad\n"
   ]
  },
  {
   "cell_type": "code",
   "execution_count": null,
   "id": "260f50c0",
   "metadata": {},
   "outputs": [],
   "source": []
  }
 ],
 "metadata": {
  "kernelspec": {
   "display_name": "Python 3 (ipykernel)",
   "language": "python",
   "name": "python3"
  },
  "language_info": {
   "codemirror_mode": {
    "name": "ipython",
    "version": 3
   },
   "file_extension": ".py",
   "mimetype": "text/x-python",
   "name": "python",
   "nbconvert_exporter": "python",
   "pygments_lexer": "ipython3",
   "version": "3.10.11"
  }
 },
 "nbformat": 4,
 "nbformat_minor": 5
}
